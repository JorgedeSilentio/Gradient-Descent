{
 "cells": [
  {
   "cell_type": "markdown",
   "metadata": {},
   "source": [
    "# Gradient Descent"
   ]
  },
  {
   "cell_type": "code",
   "execution_count": 3,
   "metadata": {},
   "outputs": [],
   "source": [
    "from matplotlib import pyplot as plt\n",
    "import numpy as np"
   ]
  },
  {
   "cell_type": "code",
   "execution_count": 4,
   "metadata": {},
   "outputs": [],
   "source": [
    "def f(x:float)-> float:\n",
    "    val = 1/4 * (x**4)+2*(x**3)-3*x-4\n",
    "    return val"
   ]
  },
  {
   "cell_type": "code",
   "execution_count": 5,
   "metadata": {},
   "outputs": [],
   "source": [
    "def f_grad (x:float) -> float:\n",
    "    x_grad = x**3 + 6* x**2 -3\n",
    "    return x_grad"
   ]
  },
  {
   "cell_type": "code",
   "execution_count": 6,
   "metadata": {},
   "outputs": [],
   "source": [
    "x_vec = [i for i in range (-10, 10)]"
   ]
  },
  {
   "cell_type": "code",
   "execution_count": 7,
   "metadata": {},
   "outputs": [],
   "source": [
    "y_vec = [f(i) for i in x_vec]"
   ]
  },
  {
   "cell_type": "code",
   "execution_count": 8,
   "metadata": {},
   "outputs": [
    {
     "data": {
      "text/plain": [
       "[<matplotlib.lines.Line2D at 0x11f995b10>]"
      ]
     },
     "execution_count": 8,
     "metadata": {},
     "output_type": "execute_result"
    },
    {
     "data": {
      "image/png": "[encoded data removed]",
      "text/plain": [
       "<Figure size 432x288 with 1 Axes>"
      ]
     },
     "metadata": {
      "needs_background": "light"
     },
     "output_type": "display_data"
    }
   ],
   "source": [
    "plt.plot(x_vec, y_vec)"
   ]
  },
  {
   "cell_type": "code",
   "execution_count": 9,
   "metadata": {},
   "outputs": [],
   "source": [
    "y_vec = [f_grad(i) for i in x_vec]"
   ]
  },
  {
   "cell_type": "code",
   "execution_count": 10,
   "metadata": {
    "scrolled": true
   },
   "outputs": [
    {
     "data": {
      "text/plain": [
       "[<matplotlib.lines.Line2D at 0x11fab4850>]"
      ]
     },
     "execution_count": 10,
     "metadata": {},
     "output_type": "execute_result"
    },
    {
     "data": {
      "image/png": "[encoded data removed]",
      "text/plain": [
       "<Figure size 432x288 with 1 Axes>"
      ]
     },
     "metadata": {
      "needs_background": "light"
     },
     "output_type": "display_data"
    }
   ],
   "source": [
    "plt.plot(x_vec, y_vec)"
   ]
  },
  {
   "cell_type": "markdown",
   "metadata": {},
   "source": [
    "## Algorithm"
   ]
  },
  {
   "cell_type": "code",
   "execution_count": 11,
   "metadata": {},
   "outputs": [],
   "source": [
    "#parameters\n",
    "beta = 0.5\n",
    "delta = 10**(-4)\n",
    "tau = 1"
   ]
  },
  {
   "cell_type": "code",
   "execution_count": 16,
   "metadata": {},
   "outputs": [],
   "source": [
    "# Armijo function\n",
    "def t(x:float)-> float:\n",
    "    d = -(f_grad(x))\n",
    "    tau = 1\n",
    "    while f(x + tau * d) > f(x) + delta * tau * f_grad(x)*d:\n",
    "        tau = beta * tau\n",
    "    return tau"
   ]
  },
  {
   "cell_type": "code",
   "execution_count": 34,
   "metadata": {},
   "outputs": [
    {
     "name": "stdout",
     "output_type": "stream",
     "text": [
      "x: -29.3941650390625 f_grad: -20215.9548521567\n",
      "x: 10.090121781556057 f_grad: 1635.144269895232\n",
      "x: -2.684442827000442 f_grad: 20.892678479722633\n",
      "x: -5.296027636965771 f_grad: 16.744952587886132\n",
      "x: -6.3425871737086545 f_grad: -16.781737989084235\n",
      "x: -5.818157861549772 f_grad: 3.155531118998965\n",
      "x: -5.91676820901849 f_grad: -0.08620930621080447\n",
      "x: -5.914074168199402 f_grad: 0.005365373748844604\n",
      "x: -5.914241836129054 f_grad: -0.0003289474772429912\n",
      "x: -5.91423155652039 f_grad: 2.0186548027822937e-05\n",
      "x: -5.914232187350016 f_grad: -1.2387181129724922e-06\n",
      "x: -5.914232148640075 f_grad: 7.601238394272514e-08\n",
      "x_opt: -5.914232148640075\n"
     ]
    }
   ],
   "source": [
    "# Gradient descent Algorithm\n",
    "## starting x\n",
    "x = 100\n",
    "## set tolerance (e.g. 1e-2)\n",
    "while abs(f_grad(x))> 1e-6:\n",
    "    tau = t(x)\n",
    "    d = -(f_grad(x))\n",
    "    x = x + d * tau\n",
    "    print(\"x:\",x, \"f_grad:\", f_grad(x))\n",
    "x_opt=x\n",
    "print(\"x_opt:\", x_opt,)\n"
   ]
  },
  {
   "cell_type": "code",
   "execution_count": 35,
   "metadata": {},
   "outputs": [
    {
     "data": {
      "text/plain": [
       "7.601238394272514e-08"
      ]
     },
     "execution_count": 35,
     "metadata": {},
     "output_type": "execute_result"
    }
   ],
   "source": [
    "#check\n",
    "f_grad(x_opt)"
   ]
  },
  {
   "cell_type": "code",
   "execution_count": null,
   "metadata": {},
   "outputs": [],
   "source": []
  }
 ],
 "metadata": {
  "kernelspec": {
   "display_name": "Python 3",
   "language": "python",
   "name": "python3"
  },
  "language_info": {
   "codemirror_mode": {
    "name": "ipython",
    "version": 3
   },
   "file_extension": ".py",
   "mimetype": "text/x-python",
   "name": "python",
   "nbconvert_exporter": "python",
   "pygments_lexer": "ipython3",
   "version": "3.7.4"
  }
 },
 "nbformat": 4,
 "nbformat_minor": 2
}
